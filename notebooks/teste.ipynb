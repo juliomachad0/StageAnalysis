{
 "cells": [
  {
   "cell_type": "code",
   "execution_count": null,
   "id": "initial_id",
   "metadata": {
    "collapsed": true,
    "is_executing": true
   },
   "outputs": [],
   "source": [
    "def eva_dv(dvtarget,dvcal):\n",
    "    print(30*\"*-\")\n",
    "    print(20*\"*\",\"AVALIAÇÃO DE DELTA-V\",20*\"*\")\n",
    "    if dvtarget <= dvcal:\n",
    "        print(\"DeltaV alvo: {:.4f} m/s, DeltaV calculado: {:.4f} m/s\".\n",
    "              format(dvtarget,dvcal))\n",
    "        print(\"Delta V alcançado\")\n",
    "    else:\n",
    "        print(\"DeltaV alvo: {:.4f} m/s, DeltaV calculado: {:.4f} m/s\".\n",
    "              format(dvtarget,dvcal))\n",
    "        print(\"Delta V não alcançado\")\n",
    "    print(30*\"*-\")\n",
    "\n",
    "from DeltaV import AnalysisOfDeltaV\n",
    "isp1 = 260\n",
    "\n",
    "mp1 = 670   #kg\n",
    "me1 = 240 # kg\n",
    "mest1 = mp1+me1 #kg\n",
    "\n",
    "efim1 = mp1/(mp1+me1)\n",
    "# configuração\n",
    "MonteN_est1 = [mp1, me1, isp1]\n",
    "MonteN_est2 = [mp1, me1, isp1]\n",
    "mpay = 1000\n",
    "mcoifa = 80\n",
    "\n",
    "# calculando dv inicial\n",
    "\n",
    "# minimal deltav velocity\n",
    "import numpy as np\n",
    "import matplotlib.pyplot as plt\n",
    "def Min_deltaV_LEO(h):\n",
    "    R_e = 6378.1  # km\n",
    "    u = 398600  # km3/s2\n",
    "    R = h + R_e\n",
    "    n = R_e/R\n",
    "    DV_min = np.sqrt(u/R_e)*(np.sqrt((2*((1-n)**2))/(1+n))+np.sqrt(n)) # km/s\n",
    "    return DV_min*1000 # m/s\n"
   ]
  },
  {
   "cell_type": "code",
   "execution_count": null,
   "outputs": [],
   "source": [
    "jettison_mass = [[2, mcoifa]]\n",
    "\n",
    "# inicialização da classe\n",
    "# config de estagios VLM, carga paga e massas de alijamento\n",
    "MonteNegro_2stages = AnalysisOfDeltaV(stages=[MonteN_est1, MonteN_est1],\n",
    "                                      jettison_mass=jettison_mass,\n",
    "                                      payload_mass=mpay,\n",
    "                                      name='MonteNegro_OnlyTwoStages')\n",
    "# vizualizando estagios\n",
    "MonteNegro_2stages.show_up_stages()\n",
    "dv = MonteNegro_2stages.deltaV()\n",
    "print(\"dv inicial: {:4f} m/s\".format(dv))\n",
    "#avaliando dv inicial\n",
    "h = 900 # km, orbita minima to LEO\n",
    "minimal_DV = Min_deltaV_LEO(h)\n",
    "print(\"Delta V mínimo para LEO: {:.4f} m/s\".format(minimal_DV))\n",
    "eva_dv(minimal_DV, dv)"
   ],
   "metadata": {
    "collapsed": false,
    "is_executing": true
   },
   "id": "873357186f0de50a"
  },
  {
   "cell_type": "code",
   "execution_count": null,
   "outputs": [],
   "source": [
    "print(\"hello\")"
   ],
   "metadata": {
    "collapsed": false,
    "is_executing": true
   },
   "id": "be52c2dec8b157c0"
  },
  {
   "cell_type": "code",
   "execution_count": null,
   "outputs": [],
   "source": [],
   "metadata": {
    "collapsed": false
   },
   "id": "dbc0a078ac7ffbf5"
  }
 ],
 "metadata": {
  "kernelspec": {
   "display_name": "Python 3",
   "language": "python",
   "name": "python3"
  },
  "language_info": {
   "codemirror_mode": {
    "name": "ipython",
    "version": 2
   },
   "file_extension": ".py",
   "mimetype": "text/x-python",
   "name": "python",
   "nbconvert_exporter": "python",
   "pygments_lexer": "ipython2",
   "version": "2.7.6"
  }
 },
 "nbformat": 4,
 "nbformat_minor": 5
}
